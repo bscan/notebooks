{
 "cells": [
  {
   "cell_type": "markdown",
   "metadata": {
    "collapsed": false
   },
   "source": [
    "<h2> Five Thiry Eight - Can You Win This Hot New Game Show </h2>\n",
    "By: Brian Scannell <br>\n",
    "This is a solution to the puzzle posted on http://fivethirtyeight.com/features/can-you-win-this-hot-new-game-show/.\n",
    "<blockquote>\n",
    "Two players go on a hot new game show called “Higher Number Wins.” The two go into separate booths, and each presses a button, and a random number between zero and one appears on a screen. (At this point, neither knows the other’s number, but they do know the numbers are chosen from a standard uniform distribution.) They can choose to keep that first number, or to press the button again to discard the first number and get a second random number, which they must keep. Then, they come out of their booths and see the final number for each player on the wall. The lavish grand prize — a case full of gold bullion — is awarded to the player who kept the higher number. Which number is the optimal cutoff for players to discard their first number and choose another? Put another way, within which range should they choose to keep the first number, and within which range should they reject it and try their luck with a second number?\n",
    "</blockquote>\n",
    "\n",
    "Assuming both players are playing rationally, the solution to this problem is a game-theoretic solution where both players are at the Nash equilibrium. This means that both players will be using the same threshold, and each winning with 50% chance. If either player deviates from this optimal threshold, they will reduce their win probability.\n",
    "\n",
    "Assuming a player rejects their first number iff it is below threshold $t$, the probability density of the final number will be:\n",
    "$$ p_{final}(x;t) =\n",
    "\\begin{cases}\n",
    "t & 0< x\\leq t ,\\\\\n",
    "1+t & t< x< 1,\n",
    "\\end{cases}\n",
    "$$\n",
    "\n",
    "This is shown in the image below"
   ]
  },
  {
   "cell_type": "code",
   "execution_count": 1,
   "metadata": {
    "collapsed": false
   },
   "outputs": [
    {
     "data": {
      "image/png": "[encoded data removed]",
      "text/plain": [
       "<matplotlib.figure.Figure at 0x110bc7dd0>"
      ]
     },
     "metadata": {},
     "output_type": "display_data"
    }
   ],
   "source": [
    "import numpy as np\n",
    "from numpy import sqrt\n",
    "import sobol\n",
    "import seaborn as sns\n",
    "import matplotlib.pyplot as plt\n",
    "%matplotlib inline\n",
    "\n",
    "opt_threshold = (np.sqrt(5)-1)/2\n",
    "\n",
    "def p(x, t): return (x>t) + t\n",
    "    \n",
    "X = np.linspace(0,1,1000)\n",
    "plt.figure(figsize=(6,4))\n",
    "plt.plot(X,[p(x,opt_threshold) for x in X])\n",
    "\n",
    "plt.ylim(0,2)\n",
    "plt.xlabel('Final Number')\n",
    "plt.ylabel('density');"
   ]
  },
  {
   "cell_type": "markdown",
   "metadata": {},
   "source": [
    "Imagine the case where the Player Y draws a number exactly at the optimal threshold $t$ while playing against player X. This is the point at which they should be indifferent to drawing a new number. $Y_{New}$ which will be distributed as uniform random. This is the point where $P(X > Y_{New}) = P(X > t)$\n",
    "Knowing the opponent is playing by the same strategy, we can compute what the probability of winning.\n",
    "$P(X > t)$ can be computed geometrically from the graph above and is:\n",
    "$$P(X > t) = 1-t^2$$\n",
    "\n",
    "The probability of a new uniform number losing to player X, $P(X > Y_{New})$ is computed as follows:"
   ]
  },
  {
   "cell_type": "markdown",
   "metadata": {},
   "source": [
    "$$\n",
    "\\begin{align*}\n",
    "P(X_{Final}>Y_{New}) \n",
    "  &=  \\int_{x=0}^1\\int_{y=0}^x P_X(x)P_Y(y)\\mathrm{d}x\\mathrm{d}y \\\\\n",
    "  &=  \\int_{x=0}^t\\int_{y=0}^x t \\mathrm{d}x\\mathrm{d}y + \\int_{x=t}^1\\int_{y=0}^x (t+1)\\mathrm{d}x\\mathrm{d}y \\\\\n",
    "  &=  \\frac{1}{2}tx^2\\bigg\\vert_{x=0}^{x=t}  + \\frac{1}{2}(t+1)x^2\\bigg\\vert_{x=t}^{x=1}  \\\\  \n",
    "  &=  \\frac{1}{2}(t+1) - \\frac{1}{2}t^2  \\\\  \n",
    "\\end{align*}\n",
    "$$"
   ]
  },
  {
   "cell_type": "markdown",
   "metadata": {},
   "source": [
    "Thus, we know that:\n",
    "$$ P(X_{Final} > Y_{New}) = P(X_{Final} > t) $$\n",
    "$$ \\frac{1}{2}(t+1) - \\frac{1}{2}t^2 = (1-t^2) $$\n",
    "$$ t = \\frac{\\sqrt{5}-1}{2} \\approx 0.618034$$"
   ]
  },
  {
   "cell_type": "markdown",
   "metadata": {},
   "source": [
    "<h2> Simulation Validation </h2>\n",
    "We can use simulation to validate that the answer is correct. If the opponent is using the strategy of the optimal threshold, then the best the first player can do is win with 50% probability which will be achieved by also using the optimal threshold. This can be seen in the graph below."
   ]
  },
  {
   "cell_type": "code",
   "execution_count": 2,
   "metadata": {
    "collapsed": false
   },
   "outputs": [],
   "source": [
    "threshes = np.linspace(0.5,0.7)\n",
    "N = int(1e6) # Trials per threshold\n",
    "\n",
    "# Quasi-monte carlo will converge faster for large sample sizes and small dimensions\n",
    "X1,X2,Y1,Y2 = sobol.sobol_seq.i4_sobol_generate(4,N,100)\n",
    "#X1,X2,Y1,Y2 = np.random.rand(4,N)\n",
    "\n",
    "win_prob = []\n",
    "for p in threshes:\n",
    "\n",
    "    p1 = X1\n",
    "    new_ones = p1 < p\n",
    "    p1[new_ones] = X2[new_ones]\n",
    "\n",
    "    p2 = Y1\n",
    "    new_ones = p2 < opt_threshold # Opponent uses the optimal threshold\n",
    "    p2[new_ones] = Y2[new_ones]\n",
    "\n",
    "    win_prob.append(np.mean(p1>p2))"
   ]
  },
  {
   "cell_type": "code",
   "execution_count": 3,
   "metadata": {
    "collapsed": false
   },
   "outputs": [
    {
     "data": {
      "image/png": "[encoded data removed]",
      "text/plain": [
       "<matplotlib.figure.Figure at 0x10d8fe590>"
      ]
     },
     "metadata": {},
     "output_type": "display_data"
    }
   ],
   "source": [
    "\n",
    "plt.figure(figsize=(7,5))\n",
    "plt.plot(threshes, win_prob,'-')\n",
    "\n",
    "plt.axvline(opt_threshold, color='k', linewidth=1, linestyle='dashed')\n",
    "plt.axhline(0.5, color='k', linewidth=1, linestyle='dashed')\n",
    "\n",
    "plt.xlabel('Threshold', fontsize=13)\n",
    "plt.ylabel('Win Probability', fontsize=13);"
   ]
  },
  {
   "cell_type": "markdown",
   "metadata": {},
   "source": [
    "The above graph shows that the first player has no incentive to deviate from the optimal threshold of $\\frac{\\sqrt{5}-1}{2}$, and will win 50% of the time playing perfectly. This shows that this threshold is the Nash equilibrium"
   ]
  },
  {
   "cell_type": "markdown",
   "metadata": {},
   "source": [
    "With the exception of the Five-Thiry-Eight question excerpt, Everything in this notebook is released under the CC0 license\n",
    "http://creativecommons.org/publicdomain/zero/1.0/"
   ]
  },
  {
   "cell_type": "code",
   "execution_count": null,
   "metadata": {
    "collapsed": true
   },
   "outputs": [],
   "source": []
  }
 ],
 "metadata": {
  "kernelspec": {
   "display_name": "Python 2",
   "language": "python",
   "name": "python2"
  },
  "language_info": {
   "codemirror_mode": {
    "name": "ipython",
    "version": 2
   },
   "file_extension": ".py",
   "mimetype": "text/x-python",
   "name": "python",
   "nbconvert_exporter": "python",
   "pygments_lexer": "ipython2",
   "version": "2.7.10"
  }
 },
 "nbformat": 4,
 "nbformat_minor": 0
}
